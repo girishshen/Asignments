{
  "nbformat": 4,
  "nbformat_minor": 0,
  "metadata": {
    "colab": {
      "provenance": []
    },
    "kernelspec": {
      "name": "python3",
      "display_name": "Python 3"
    },
    "language_info": {
      "name": "python"
    }
  },
  "cells": [
    {
      "cell_type": "markdown",
      "source": [
        "## Statistics Basics"
      ],
      "metadata": {
        "id": "PgjjIhUUDbTH"
      }
    },
    {
      "cell_type": "markdown",
      "source": [
        " 1. What is the difference between descriptive statistics and inferential statistics? Explain with examples.\n",
        "\n",
        " ->\n",
        "\n",
        "  Descriptive Statistics:\n",
        "\n",
        "      i) It describes and summarizes the main features of a dataset. It helps you understand the characteristics of the data you have collected.\n",
        "      \n",
        "      ii) It's goal is to organize, summarize, and present data in a meaningful way.\n",
        "\n",
        "      iii) It uses calculating measures like mean, median, mode, standard deviation, variance, range, and creating visualizations like histograms, box plots, and bar charts.\n",
        "\n",
        "      iv) Examples:\n",
        "        \n",
        "        a) Calculating the average height of students in a class.\n",
        "      \n",
        "        b) Determining the percentage of people in a survey who prefer a certain product.\n",
        "      \n",
        "        c) Creating a chart showing the distribution of ages in a population.\n",
        "\n",
        "\n",
        "  Inferential Statistics:\n",
        "\n",
        "      i) It uses data from a sample to make inferences, predictions, or generalizations about a larger population. It helps you draw conclusions beyond the immediate data.\n",
        "\n",
        "      ii) It's goal is to make predictions, test hypotheses, and draw conclusions about a population based on sample data.\n",
        "      \n",
        "      iii) It uses techniques like hypothesis testing, confidence intervals, regression analysis, and ANOVA.\n",
        "      \n",
        "      iv) Examples:\n",
        "        \n",
        "        a) Using a survey of a sample of voters to predict the outcome of an election for the entire population.\n",
        "      \n",
        "        b) Testing if a new drug is effective by comparing the outcomes of a sample group who received the drug to a sample group who received a placebo.\n",
        "      \n",
        "        c) Estimating the average income of all residents in a city based on the average income of a sample of households.\n",
        "\n",
        "\n",
        "\n",
        "\n",
        " 2. What is sampling in statistics? Explain the differences between random and stratified sampling.\n",
        "\n",
        " -> Sampling in statistics is the process of selecting a representative subset of individuals or observations from a larger population. The goal of sampling is to gather data from this subset to make inferences about the entire population without having to collect data from every single member.\n",
        "\n",
        "  Random Sampling:\n",
        "\n",
        "  i) In random sampling, every member of the population has an equal chance of being selected for the sample. This is often done using random number generators or other randomization techniques.\n",
        "  \n",
        "  ii) It helps to minimize bias and ensures that the sample is representative of the population on average.\n",
        "  \n",
        "  iii) It's relatively easy to implement and understand.\n",
        "  \n",
        "  iv) It may not always guarantee that specific subgroups within the population are adequately represented, especially if those subgroups are small.\n",
        "  \n",
        "  \n",
        "  Stratified Sampling:\n",
        "\n",
        "  i) In stratified sampling, the population is divided into subgroups (strata) based on shared characteristics (e.g., age, gender, income level).\n",
        "  \n",
        "  ii) It ensures that each subgroup is represented in the sample in proportion to its size in the population.\n",
        "  \n",
        "  iii) It provides a more representative sample when there are important subgroups in the population. It can also be more efficient than simple random sampling in some cases.\n",
        "  \n",
        "  iv) It requires prior knowledge about the population and the characteristics of the subgroups. It can also be more complex to implement than simple random sampling.\n",
        "\n",
        "\n",
        "\n",
        "\n",
        "\n",
        " 3. Define mean, median, and mode. Explain why these measures of central tendency are important.\n",
        "\n",
        " -> Mean, median, and mode are all measures of central tendency, which help us understand the typical value in a dataset.\n",
        "\n",
        "\n",
        "\n",
        "  i) Mean: -\n",
        "  \n",
        "      The average of all the numbers in a dataset.\n",
        "      \n",
        "      It's calculated by summing all the values and dividing by the number of values.\n",
        "\n",
        "      The mean is a commonly used measure that takes into account every value in the dataset.\n",
        "      \n",
        "      It's useful for understanding the overall average.\n",
        "      \n",
        "      However, it can be affected by outliers.\n",
        "\n",
        "\n",
        "      \n",
        "  ii) Median:\n",
        "      \n",
        "      The middle value in a dataset when it's ordered from least to greatest.\n",
        "      \n",
        "      If there's an even number of values, the median is the average of the two middle numbers.\n",
        "      \n",
        "      The median is not affected by outliers, making it a better measure of central tendency than the mean for skewed datasets.\n",
        "      \n",
        "      It represents the true middle point of the data.\n",
        "\n",
        "\n",
        "\n",
        "      \n",
        "  iii) Mode:\n",
        "      \n",
        "      The value that appears most frequently in a dataset. A dataset can have one mode (unimodal), more than one mode (multimodal), or no mode.\n",
        "      \n",
        "      The mode is useful for understanding which values are most common in a dataset.\n",
        "      \n",
        "      It's particularly helpful for categorical or discrete data.\n",
        "      \n",
        "      These measures are important because they provide a single value that summarizes the entire dataset, giving us a sense of the \"center\" or typical value.\n",
        "      \n",
        "      Choosing the appropriate measure depends on the type of data and the research question.\n",
        "\n",
        "\n",
        "\n",
        "\n",
        "\n",
        "\n",
        " 4.  Explain skewness and kurtosis. What does a positive skew imply about the data?\n",
        "\n",
        " ->\n",
        "\n",
        " i) Skewness: -\n",
        "\n",
        "  Skewness measures the asymmetry of the probability distribution of a real-valued random variable about its mean.\n",
        "\n",
        "  A distribution is symmetric if it looks the same on both sides of the mean.\n",
        "\n",
        "  A distribution has positive skew (or is right-skewed) if the tail on the right side of the distribution is longer or fatter than the tail on the left side.\n",
        "  \n",
        "  This means that there are more extreme values on the higher end of the distribution.\n",
        "  \n",
        "  A distribution has negative skew (or is left-skewed) if the tail on the left side of the distribution is longer or fatter than the tail on the right side.\n",
        "  \n",
        "  This means that there are more extreme values on the lower end of the distribution.\n",
        "\n",
        "\n",
        " ii) Kurtosis:-\n",
        "   \n",
        "  It measures the \"tailedness\" of the probability distribution of a real-valued random variable.\n",
        "  \n",
        "  It describes how much of the data is in the tails versus the center of the distribution.\n",
        "\n",
        "  A distribution with high kurtosis (leptokurtic) has heavy tails and a sharper peak.\n",
        "  \n",
        "  This means there are more outliers compared to a normal distribution.\n",
        "  \n",
        "  A distribution with low kurtosis (platykurtic) has light tails and a flatter peak.\n",
        "  \n",
        "  This means there are fewer outliers compared to a normal distribution.\n",
        "  \n",
        "  A normal distribution has a kurtosis of 3 (often referred to as mesokurtic).\n",
        "  \n",
        "  Sometimes, excess kurtosis is used, which is kurtosis minus 3.\n",
        "  \n",
        "  In this case, a normal distribution has an excess kurtosis of 0.\n",
        "\n",
        "\n",
        "\n",
        "  A positive skew implies that the majority of the data is concentrated on the lower side, with a longer tail extending towards the higher values.\n",
        "  \n",
        "  In a positively skewed distribution, the mean is typically greater than the median, which is often greater than the mode.\n",
        "  \n",
        "  This is because the extreme high values in the tail pull the mean towards the right."
      ],
      "metadata": {
        "id": "-918bUb7DpIw"
      }
    },
    {
      "cell_type": "markdown",
      "source": [
        " 5.  Implement a Python program to compute the mean, median, and mode of a given list of numbers.\n",
        "\n",
        " numbers = [12, 15, 12, 18, 19, 12, 20, 22, 19, 19, 24, 24, 24, 26, 28]\n",
        "\n",
        " (Include your Python code and output in the code box below.)\n",
        "\n",
        " ->"
      ],
      "metadata": {
        "id": "X9pRXKaVe4PU"
      }
    },
    {
      "cell_type": "code",
      "source": [
        "import statistics\n",
        "\n",
        "numbers = [12, 15, 12, 18, 19, 12, 20, 22, 19, 19, 24, 24, 24, 26, 28]\n",
        "\n",
        "mean_value = statistics.mean(numbers)\n",
        "median_value = statistics.median(numbers)\n",
        "\n",
        "try:\n",
        "    mode_value = statistics.mode(numbers)\n",
        "    print(f\"Mean: {mean_value}\")\n",
        "    print(f\"Median: {median_value}\")\n",
        "    print(f\"Mode: {mode_value}\")\n",
        "except statistics.StatisticsError:\n",
        "    modes = statistics.multimode(numbers)\n",
        "    print(f\"Mean: {mean_value}\")\n",
        "    print(f\"Median: {median_value}\")\n",
        "    print(f\"Modes: {modes}\")"
      ],
      "metadata": {
        "id": "GDqSkVRzZUOl",
        "colab": {
          "base_uri": "https://localhost:8080/"
        },
        "outputId": "04ab36a9-35c2-49f1-c2c6-f47b2803129f"
      },
      "execution_count": 1,
      "outputs": [
        {
          "output_type": "stream",
          "name": "stdout",
          "text": [
            "Mean: 19.6\n",
            "Median: 19\n",
            "Mode: 12\n"
          ]
        }
      ]
    },
    {
      "cell_type": "markdown",
      "source": [
        "6. Compute the covariance and correlation coefficient between the following two datasets provided as lists in Python:\n",
        "\n",
        "list_x = [10, 20, 30, 40, 50]\n",
        "\n",
        "list_y = [15, 25, 35, 45, 60]\n",
        "\n",
        "(Include your Python code and output in the code box below.)\n",
        "\n",
        "->\n",
        "\n"
      ],
      "metadata": {
        "id": "pggKnwNAE1aQ"
      }
    },
    {
      "cell_type": "code",
      "metadata": {
        "colab": {
          "base_uri": "https://localhost:8080/"
        },
        "id": "73dd0926",
        "outputId": "295d0727-bbdd-4cec-f9cd-5e6b4a435e03"
      },
      "source": [
        "import numpy as np\n",
        "\n",
        "list_x = [10, 20, 30, 40, 50]\n",
        "list_y = [15, 25, 35, 45, 60]\n",
        "\n",
        "covariance = np.cov(list_x, list_y)[0, 1]\n",
        "correlation_coefficient = np.corrcoef(list_x, list_y)[0, 1]\n",
        "\n",
        "print(f\"Covariance: {covariance}\")\n",
        "print(f\"Correlation Coefficient: {correlation_coefficient}\")"
      ],
      "execution_count": 2,
      "outputs": [
        {
          "output_type": "stream",
          "name": "stdout",
          "text": [
            "Covariance: 275.0\n",
            "Correlation Coefficient: 0.995893206467704\n"
          ]
        }
      ]
    },
    {
      "cell_type": "markdown",
      "source": [
        "7) Write a Python script to draw a boxplot for the following numeric list and identify its outliers. Explain the result:\n",
        "\n",
        "data = [12, 14, 14, 15, 18, 19, 19, 21, 22, 22, 23, 23, 24, 26, 29, 35]\n",
        "\n",
        "(Include your Python code and output in the code box below.)\n",
        "\n",
        "->"
      ],
      "metadata": {
        "id": "KiXXXlklE9po"
      }
    },
    {
      "cell_type": "code",
      "metadata": {
        "colab": {
          "base_uri": "https://localhost:8080/",
          "height": 691
        },
        "id": "1ab5bcd1",
        "outputId": "1d7b44b7-87cb-4e3c-8a3f-0ead28fa7957"
      },
      "source": [
        "import matplotlib.pyplot as plt\n",
        "import seaborn as sns\n",
        "import numpy as np\n",
        "\n",
        "data = [12, 14, 14, 15, 18, 19, 19, 21, 22, 22, 23, 23, 24, 26, 29, 35]\n",
        "\n",
        "plt.figure(figsize=(8, 6))\n",
        "sns.boxplot(x=data)\n",
        "plt.title(\"Boxplot of Data\")\n",
        "plt.xlabel(\"Values\")\n",
        "plt.show()\n",
        "\n",
        "# Identify outliers using IQR\n",
        "Q1 = np.percentile(data, 25)\n",
        "Q3 = np.percentile(data, 75)\n",
        "IQR = Q3 - Q1\n",
        "\n",
        "lower_bound = Q1 - 1.5 * IQR\n",
        "upper_bound = Q3 + 1.5 * IQR\n",
        "\n",
        "outliers = [x for x in data if x < lower_bound or x > upper_bound]\n",
        "\n",
        "print(f\"\\nQ1 (25th percentile): {Q1}\")\n",
        "print(f\"Q3 (75th percentile): {Q3}\")\n",
        "print(f\"IQR (Interquartile Range): {IQR}\")\n",
        "print(f\"Lower bound for outliers: {lower_bound}\")\n",
        "print(f\"Upper bound for outliers: {upper_bound}\")\n",
        "print(f\"Identified outliers: {outliers}\")"
      ],
      "execution_count": 3,
      "outputs": [
        {
          "output_type": "display_data",
          "data": {
            "text/plain": [
              "<Figure size 800x600 with 1 Axes>"
            ],
            "image/png": "[encoded data removed]"
          },
          "metadata": {}
        },
        {
          "output_type": "stream",
          "name": "stdout",
          "text": [
            "\n",
            "Q1 (25th percentile): 17.25\n",
            "Q3 (75th percentile): 23.25\n",
            "IQR (Interquartile Range): 6.0\n",
            "Lower bound for outliers: 8.25\n",
            "Upper bound for outliers: 32.25\n",
            "Identified outliers: [35]\n"
          ]
        }
      ]
    },
    {
      "cell_type": "markdown",
      "source": [
        "8. You are working as a data analyst in an e-commerce company. The marketing team wants to know if there is a relationship between advertising spend and daily sales.\n",
        "\n",
        "  ● Explain how you would use covariance and correlation to explore this relationship.\n",
        "  \n",
        "  ● Write Python code to compute the correlation between the two lists:\n",
        "  \n",
        "  advertising_spend = [200, 250, 300, 400, 500]   \n",
        "  \n",
        "  daily_sales = [2200, 2450, 2750, 3200, 4000]\n",
        "  \n",
        "(Include your Python code and output in the code box below.)\n",
        "\n",
        "->\n",
        "\n",
        "To explore the relationship between advertising spend and daily sales, you can use covariance and correlation.\n",
        "\n",
        "i) Covariance:\n",
        "  \n",
        "  Covariance measures the extent to which two variables change together. A positive covariance indicates that as one variable increases, the other tends to increase as well.\n",
        "  \n",
        "  A negative covariance indicates that as one variable increases, the other tends to decrease.\n",
        "  \n",
        "  A covariance close to zero suggests a weak or no linear relationship. However, the magnitude of covariance is not standardized, making it difficult to compare the strength of the relationship between different pairs of variables.\n",
        "\n",
        "  \n",
        "ii) Correlation:\n",
        "\n",
        "  Correlation is a standardized measure of the linear relationship between two variables. The Pearson correlation coefficient (r) ranges from -1 to +1.\n",
        "\n",
        "  A correlation coefficient of +1 indicates a perfect positive linear relationship (as one variable increases, the other increases proportionally).\n",
        "\n",
        "  A correlation coefficient of -1 indicates a perfect negative linear relationship (as one variable increases, the other decreases proportionally).\n",
        "\n",
        "  A correlation coefficient of 0 indicates no linear relationship.\n",
        "\n",
        "In the context of advertising spend and daily sales:\n",
        "\n",
        "A positive covariance and a positive correlation coefficient would suggest that as advertising spend increases, daily sales tend to increase.\n",
        "\n",
        "The closer the correlation coefficient is to +1, the stronger the positive linear relationship between advertising spend and daily sales.\n",
        "\n",
        "By calculating both covariance and correlation, you can get a better understanding of the direction and strength of the linear relationship between these two variables."
      ],
      "metadata": {
        "id": "XyzhJ4mbFJBq"
      }
    },
    {
      "cell_type": "code",
      "metadata": {
        "id": "38aa3610",
        "colab": {
          "base_uri": "https://localhost:8080/"
        },
        "outputId": "6aeaf0ad-9465-45ba-b684-6a9f2ea16f85"
      },
      "source": [
        "import numpy as np\n",
        "\n",
        "advertising_spend = [200, 250, 300, 400, 500]\n",
        "daily_sales = [2200, 2450, 2750, 3200, 4000]\n",
        "\n",
        "correlation_coefficient = np.corrcoef(advertising_spend, daily_sales)[0, 1]\n",
        "\n",
        "print(f\"Correlation Coefficient: {correlation_coefficient}\")"
      ],
      "execution_count": 4,
      "outputs": [
        {
          "output_type": "stream",
          "name": "stdout",
          "text": [
            "Correlation Coefficient: 0.9935824101653329\n"
          ]
        }
      ]
    },
    {
      "cell_type": "markdown",
      "source": [
        "9. Your team has collected customer satisfaction survey data on a scale of 1-10 and wants to understand its distribution before launching a new product.\n",
        "\n",
        "  ● Explain which summary statistics and visualizations (e.g. mean, standard deviation, histogram) you’d use.\n",
        "\n",
        "  ● Write Python code to create a histogram using Matplotlib for the survey data:\n",
        "  \n",
        "  survey_scores = [7, 8, 5, 9, 6, 7, 8, 9, 10, 4, 7, 6, 9, 8, 7]\n",
        "  \n",
        "(Include your Python code and output in the code box below.)\n",
        "\n",
        "->\n",
        "\n",
        "To understand the distribution of customer satisfaction survey data (on a scale of 1-10) before launching a new product, you would typically use a combination of summary statistics and visualizations.\n",
        "\n",
        "Summary Statistics:\n",
        "\n",
        "  i) Mean: Provides the average satisfaction score, giving a central value for the data.\n",
        "\n",
        "  ii) Median: Represents the middle satisfaction score when the data is ordered. This is useful as it is not affected by potential outliers or skewness in the data.\n",
        "\n",
        "  iii) Mode: Identifies the most frequent satisfaction score, indicating the most common response.\n",
        "    \n",
        "  iv) Standard Deviation:\n",
        "\n",
        "  Measures the spread or variability of the satisfaction scores around the mean. A lower standard deviation indicates that the scores are clustered closer to the mean, while a higher standard deviation suggests a wider spread of scores.\n",
        "    \n",
        "  v) Minimum and Maximum:\n",
        "\n",
        "  These values show the range of the survey scores, indicating the lowest and highest satisfaction levels recorded.\n",
        "\n",
        "\n",
        "\n",
        "Visualizations:\n",
        "\n",
        "  i) Histogram:\n",
        "\n",
        "  A histogram is a great way to visualize the distribution of the survey scores. It shows the frequency of each score (or range of scores) and helps identify the shape of the distribution (e.g., skewed, normal, uniform). This can reveal if scores are clustered around a particular value, if there are multiple peaks, or if the scores are spread out.\n",
        "    \n",
        "  ii) Boxplot:\n",
        "\n",
        "  A boxplot provides a visual summary of the distribution, including the median, quartiles, and potential outliers. It can quickly show the central tendency, spread, and any extreme values in the data.\n",
        "\n",
        "  By using these summary statistics and visualizations together, you can gain a comprehensive understanding of the customer satisfaction levels and their distribution, which is crucial before launching a new product."
      ],
      "metadata": {
        "id": "Jb4ZuqwRFWW6"
      }
    },
    {
      "cell_type": "code",
      "metadata": {
        "id": "7cafe380",
        "colab": {
          "base_uri": "https://localhost:8080/",
          "height": 564
        },
        "outputId": "59ac6b05-d4c2-4dfa-dc2c-496831361f35"
      },
      "source": [
        "import matplotlib.pyplot as plt\n",
        "\n",
        "survey_scores = [7, 8, 5, 9, 6, 7, 8, 9, 10, 4, 7, 6, 9, 8, 7]\n",
        "\n",
        "plt.figure(figsize=(8, 6))\n",
        "plt.hist(survey_scores, bins=range(4, 12), align='left', rwidth=0.8)\n",
        "plt.xticks(range(4, 11))\n",
        "plt.title(\"Distribution of Customer Satisfaction Survey Scores\")\n",
        "plt.xlabel(\"Satisfaction Score (1-10)\")\n",
        "plt.ylabel(\"Frequency\")\n",
        "plt.grid(axis='y', alpha=0.75)\n",
        "plt.show()"
      ],
      "execution_count": 5,
      "outputs": [
        {
          "output_type": "display_data",
          "data": {
            "text/plain": [
              "<Figure size 800x600 with 1 Axes>"
            ],
            "image/png": "[encoded data removed]"
          },
          "metadata": {}
        }
      ]
    }
  ]
}