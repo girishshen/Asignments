{
  "nbformat": 4,
  "nbformat_minor": 0,
  "metadata": {
    "colab": {
      "provenance": []
    },
    "kernelspec": {
      "name": "python3",
      "display_name": "Python 3"
    },
    "language_info": {
      "name": "python"
    }
  },
  "cells": [
    {
      "cell_type": "markdown",
      "source": [
        "# Data Structures"
      ],
      "metadata": {
        "id": "RFzd37chEWly"
      }
    },
    {
      "cell_type": "markdown",
      "source": [
        "1. What are data structures, and why are they important?\n",
        "\n",
        "  -> Data structures are ways to organize and store data in a computer so that it can be accessed and modified efficiently. They are important because they affect how efficiently data can be accessed and modified. Choosing the right data structure can make a program faster and use less memory.\n",
        "\n",
        "\n",
        "\n",
        "\n",
        "2. Explain the difference between mutable and immutable data types with examples\n",
        "\n",
        "  -> Mutable data types are those whose values can be changed after they are\n",
        "     created. When you modify a mutable object, you are changing the object in place.\n",
        "\n",
        "      Examples: Lists, dictionaries, sets\n",
        "      \n",
        "      i) Example with a List below:\n",
        "\n",
        "      l = [1, 2, 3]\n",
        "\n",
        "      print(l)  # Output:- [1, 2, 3]\n",
        "\n",
        "      l.append(4) # Modifying the list by adding an element\n",
        "\n",
        "      print(l)  # Output:- [1, 2, 3, 4]\n",
        "\n",
        "      l[0] = 10 # Modifying an element in the list\n",
        "\n",
        "      print(l)   # Output:- [10, 2, 3, 4]  \n",
        "\n",
        "\n",
        "      In the above example, l is a list (a mutable type). We can add an element with .append() and change an existing element by assigning a new value to an index.\n",
        "\n",
        "      Immutable Data Types\n",
        "\n",
        "      Immutable data types are those whose values cannot be changed after they are created. When you perform an operation that seems to modify an immutable object, you are actually creating a new object with the modified value. The original object remains unchanged.\n",
        "\n",
        "      Examples: Strings, tuples, numbers (integers, floats), booleans\n",
        "\n",
        "      Example with a String below:\n",
        "\n",
        "      s = \"hello\"\n",
        "\n",
        "      print(s) # Output:- hello\n",
        "\n",
        "      # Trying to change a character in the string will raise an error\n",
        "\n",
        "      s[0] = 'H' # This will cause a TypeError\n",
        "\n",
        "      ns = s.upper()\n",
        "      print(ns)  # Output:- HELLO\n",
        "      print(s) # The original string remains unchanged (Output:- hello)\n",
        "\n",
        "      In this example, s is a string (an immutable type).\n",
        "      You cannot change individual characters within the string.\n",
        "      When you use a method like .upper(), a new string in uppercase is created, while the original my_string remains lowercase.\n",
        "\n",
        "\n",
        "\n",
        "3. What are the main differences between lists and tuples in Python ?\n",
        "  \n",
        "  -> Lists\n",
        "\n",
        "      1. Lists are mutable, which means you can change their contents (add, remove, or modify elements) after they are created.\n",
        "\n",
        "      2. Lists are defined using square brackets ([]).\n",
        "      \n",
        "      3. Lists are commonly used for ordered collections of items where the content might change over time.\n",
        "\n",
        "      4. Example with a List (Mutable)\n",
        "      my_list = [1, 2, 3]\n",
        "      print(\"Original list:\", my_list) # Output:- Original list: [1, 2, 3]\n",
        "\n",
        "      my_list.append(4) # Modify the list\n",
        "      print(\"Modified list:\", my_list)  # Output:- Modified list: [1, 2, 3, 4]\n",
        "\n",
        "      \n",
        "      Tuples\n",
        "\n",
        "      1. Tuples are immutable, which means you cannot change their contents after they are created.\n",
        "\n",
        "      2. Tuples are defined using parentheses (). Although parentheses are often optional for defining tuples, they are required for empty tuples or tuples with nested structures.\n",
        "\n",
        "      3. Tuples are typically used for collections of related data that should not be changed, such as coordinates, database records, or function arguments that should remain constant.\n",
        "\n",
        "      4. Example with a Tuple (Immutable)\n",
        "      my_tuple = (1, 2, 3)\n",
        "      print(\"Original tuple:\", my_tuple) # Output:- Original tuple: (1, 2, 3)\n",
        "      # Trying to modify a tuple will raise a TypeError\n",
        "      # my_tuple.append(4) # This would raise a TypeError\n",
        "\n",
        "\n",
        "\n",
        "4. Describe how dictionaries store data\n",
        "  \n",
        "  -> Dictionaries in Python store data as collections of key-value pairs.\n",
        "     \n",
        "     Here's how it works:\n",
        "\n",
        "      i) Key-Value Association: Each item in a dictionary is a pair, where a unique key is associated with a value.\n",
        "\n",
        "      ii) Keys for Identification: The keys are used to uniquely identify and retrieve the corresponding values. Keys must be immutable data types like strings, numbers, or tuples.\n",
        "      \n",
        "      iii) Values as Stored Information: The values hold the actual data you want to store. Values can be of any data type.\n",
        "\n",
        "      iv) Here's an example below:\n",
        "\n",
        "      student = {  # Create a dictionary\n",
        "\n",
        "        \"name\": \"Alice\",\n",
        "        \"age\": 30,\n",
        "        \"city\": \"New York\"\n",
        "      }\n",
        "\n",
        "      #Access data using keys\n",
        "    \n",
        "      print(student[\"name\"]) # Output: Alice\n",
        "\n",
        "      print(student[\"age\"])  # Output: 30\n",
        "\n",
        "\n",
        "\n",
        "5. Why might you use a set instead of a list in Python ?\n",
        "   \n",
        "   -> We might use a set instead of a list in Python for the below reasons:\n",
        "\n",
        "      i) Uniqueness:\n",
        "      \n",
        "      Sets automatically handle duplicate values. If you add an element that is already in the set, it won't be added again. This is useful when you need to work with a collection of unique items. Lists, on the other hand, can contain multiple occurrences of the same element.\n",
        "\n",
        "      ii) Membership Testing (Checking if an element exists):\n",
        "      \n",
        "      Checking for the presence of an element in a set is generally faster than in a list, especially for large collections. This is because sets are implemented using hash tables, which provide average O(1) time complexity for membership testing. Lists have O(n) time complexity in the worst case.\n",
        "\n",
        "      iii) Mathematical Set Operations:\n",
        "      \n",
        "      Sets provide convenient methods for performing mathematical set operations like union, intersection, difference, and symmetric difference. While you can perform similar operations with lists, it often requires more manual coding.\n",
        "\n",
        "      iv) Order Doesn't Matter:\n",
        "      \n",
        "      If the order of the elements is not important, a set can be a good choice. Sets are inherently unordered collections. Lists maintain the order in which elements are added.\n",
        "\n",
        "\n",
        "\n",
        "6. What is a string in Python, and how is it different from a list ?\n",
        "\n",
        "  -> A string in Python is a sequence of characters, used to represent text.\n",
        "  \n",
        "  It is an immutable data type, meaning once a string is created, you cannot change individual characters within it.\n",
        "\n",
        "  Here's how it's different from a list:\n",
        "\n",
        "  i) Mutability:\n",
        "  \n",
        "  Strings are immutable, while lists are mutable. You can add, remove, or change elements in a list after it's created, but you cannot do this with a string.\n",
        "\n",
        "  ii) Data Type:\n",
        "  \n",
        "  Strings are sequences of characters. Lists can contain elements of different data types (integers, floats, strings, even other lists or dictionaries).\n",
        "  \n",
        "  iii) Definition:\n",
        "  \n",
        "  Strings are defined using single quotes (' ') or double quotes (\" \"). Lists are defined using square brackets ([ ]).\n",
        "\n",
        "  Use Case: Strings are primarily used for representing text. Lists are used for ordered collections of items where the content might change over time.\n",
        "\n",
        "\n",
        "7. How do tuples ensure data integrity in Python ?\n",
        "\n",
        "   -> Tuples ensure data integrity in Python primarily because they are immutable. This means that once a tuple is created, its contents cannot be changed.\n",
        "   \n",
        "   Here's how this contributes to data integrity:\n",
        "\n",
        "  i) Preventing Accidental Modification:\n",
        "  \n",
        "  If you have data that should not be altered during the program's execution (like configuration settings, coordinates, or database records), using a tuple prevents accidental modification. Any attempt to change an element within a tuple will result in a TypeError.\n",
        "\n",
        "  ii) Thread Safety:\n",
        "  \n",
        "  In multithreaded environments, mutable data structures like lists can be problematic because multiple threads might try to modify the same list simultaneously, leading to unpredictable results. Since tuples are immutable, they are inherently thread-safe. Multiple threads can access and read the elements of a tuple without the risk of data corruption.\n",
        "\n",
        "  iii) Use as Dictionary Keys:\n",
        "  \n",
        "  As tuples are immutable, they can be used as keys in dictionaries. Dictionary keys must be hashable, and immutability is a requirement for hashability. This allows you to create more complex data structures using tuples as identifiers.\n",
        "\n",
        "  iv) Clear Intent:\n",
        "  \n",
        "  By using a tuple signals to other developers (and yourself) that the data within the tuple is intended to be constant and should not be changed. This improves code readability and understanding.\n",
        "\n",
        "\n",
        "8. What is a hash table, and how does it relate to dictionaries in Python ?\n",
        "   \n",
        "   -> A hash table is a data structure that implements an associative array abstract data type, a structure that can map keys to values. It uses a hash function to compute an index into an array of buckets or slots, from which the desired value can be found.\n",
        "\n",
        "  In simpler terms, imagine you have a list of items, and each item has a unique identifier (a key). A hash table provides a very quick way to find the item associated with a given key. It does this by using a special function (the hash function) that takes the key and calculates a location (index) in an internal storage area (the table). When you want to retrieve a value for a key, the hash function is applied to the key again to find the same location in the table.\n",
        "\n",
        "  How it relates to dictionaries in Python:\n",
        "\n",
        "  i) Implementation:\n",
        "  \n",
        "  Python dictionaries are implemented using hash tables. This is why dictionaries provide very fast average-case time complexity for operations like insertion, deletion, and lookup (accessing values by key).\n",
        "\n",
        "  ii) Hashing:\n",
        "  \n",
        "  When you create a dictionary and add key-value pairs, Python uses a hash function to calculate a hash value for each key. This hash value is then used to determine where the key-value pair will be stored in the dictionary's internal hash table structure.\n",
        "\n",
        "  iii) Key Requirements:\n",
        "  \n",
        "  As dictionaries use hash tables, the keys of a dictionary must be \"hashable.\" Hashable objects have a hash value that doesn't change during their lifetime and can be compared to other objects. Immutable data types like strings, numbers, and tuples are hashable and can be used as dictionary keys. Mutable data types like lists and sets are not hashable and cannot be used as dictionary keys.\n",
        "\n",
        "  iv) Performance:\n",
        "  \n",
        "  The efficiency of dictionary operations relies heavily on the quality of the hash function used. A good hash function minimizes \"collisions\" (situations where different keys produce the same hash value), which helps to maintain the fast average-case performance.\n",
        "\n",
        "\n",
        "\n",
        "9. Can lists contain different data types in Python?\n",
        "   \n",
        "   -> Yes, lists in Python can contain different data types.\n",
        "\n",
        "      Here's an example:\n",
        "\n",
        "      my_list = [1, \"hello\", 3.14, True, [5, 6]]\n",
        "      \n",
        "      print(my_list)  # Output: [1, 'hello', 3.14, True, [5, 6]]\n",
        "\n",
        "      In this example, the list my_list contains an integer (1), a string (\"hello\"), a float (3.14), a boolean (True), and even another list ([5, 6]). You can include various data types within a single list.\n",
        "\n",
        "\n",
        "\n",
        "10. Explain why strings are immutable in Python\n",
        "\n",
        "  -> The main reason strings are immutable in Python is for efficient hashing.\n",
        "\n",
        "  Since strings are commonly used as keys in dictionaries and elements in sets, their immutability ensures that their hash value remains constant. This allows for fast lookups and operations in these data structures. If strings were mutable, their hash value could change, which would make it impossible to reliably use them in hash-based collections.\n",
        "\n",
        "\n",
        "\n",
        "11. What advantages do dictionaries offer over lists for certain tasks ?\n",
        "    \n",
        "  -> The advantages dictionaries offer over lists for certain tasks:\n",
        "\n",
        "  i) Key-Based Access:\n",
        "  \n",
        "  Dictionaries allow you to store and retrieve data using unique keys. This is highly efficient when you need to access data based on a specific identifier rather than its position in a sequence, as with lists.\n",
        "  \n",
        "  ii) Fast Lookups:\n",
        "  \n",
        "  As dictionaries are implemented using hash tables, they provide very fast average-case time complexity (O(1)) for accessing values by their keys. This makes them ideal for tasks where you need to quickly find a specific item.\n",
        "  \n",
        "  iii) Representing Relationships:\n",
        "  \n",
        "  Dictionaries are excellent for representing data where there's a clear association between a key and a value, like mapping names to ages or cities to populations.\n",
        "  \n",
        "  iv) Storing Unordered Data:\n",
        "  \n",
        "  If the order of your data doesn't matter and you need efficient lookups, dictionaries are a better choice than lists, which maintain insertion order.\n",
        "\n",
        "\n",
        "12. How do sets handle duplicate values in Python ?\n",
        "  \n",
        "  -> Sets are designed to store unique elements. This means that when you add elements to a set, any duplicate values are automatically discarded. If you attempt to add an element that is already in the set, the set remains unchanged because the element is already considered a member.\n",
        "\n",
        "  For example, if you create a list with duplicate values like [1, 2, 3, 2, 1] and then convert it to a set, the resulting set will only contain the unique elements {1, 2, 3}. The duplicate instances of 1 and 2 are not included in the set.\n",
        "\n",
        "  This characteristic of sets makes them particularly useful when you need to work with a collection of distinct items and want to easily remove duplicates from a list or other iterable.\n",
        "\n",
        "\n",
        "\n",
        "13. Describe a scenario where using a tuple would be preferable over a list\n",
        "  \n",
        "  ->  Imagine you need to store the geographical coordinates of a location, like latitude and longitude. These values are typically fixed and shouldn't change once they are defined. In this case, a tuple is a better choice than a list because:\n",
        "\n",
        "  i) Immutability:\n",
        "  \n",
        "  Tuples are immutable, meaning their elements cannot be changed after creation. This ensures the integrity of the coordinate data, preventing accidental modification.\n",
        "  \n",
        "  ii) Data Integrity:\n",
        "  \n",
        "  By using a tuple, you signal that this data is meant to be constant. If you were to use a list, there's a possibility that the coordinates could be mistakenly altered later in the program, leading to errors.\n",
        "\n",
        "  iii) Example:\n",
        "\n",
        "  location_coordinates = (40.7128, -74.0060)  # Using a tuple for coordinates\n",
        "\n",
        "  location_list = [40.7128, -74.0060]  # Using a list for coordinates\n",
        "\n",
        "  location_list[0] = 41.0  # A list can be modified\n",
        "\n",
        "\n",
        "  In this scenario, the immutability of the tuple guarantees that the location_coordinates remain unchanged, which is essential for maintaining the accuracy of the location data. While a list could also store the coordinates, its mutability introduces the risk of unintended\n",
        "\n",
        "\n",
        "14. How does the “in” keyword work differently for lists and dictionaries ?\n",
        "  \n",
        "  ->  The in keyword is a membership operator in which if the object   \n",
        "      or value is present in the particular data structure then it return true otherwise false  \n",
        "      \n",
        "      Lists:\n",
        "\n",
        "      For lists, the in keyword checks if a specific element exists as a value within the list.\n",
        "\n",
        "      For exampleL:-\n",
        "\n",
        "      my_list = [1, 2, 3, 'apple', 'banana']\n",
        "\n",
        "      print(3 in my_list)  # True\n",
        "\n",
        "      print('orange' in my_list) # False\n",
        "      \n",
        "\n",
        "\n",
        "      Dictionaries:\n",
        "\n",
        "      For dictionaries, the in keyword checks if a specific element exists as a key within the dictionary.\n",
        "\n",
        "      For example: -\n",
        "\n",
        "      my_dict = {'name': 'Alice', 'age': 30, 'city': 'New York'}\n",
        "\n",
        "      print('age' in my_dict) # True\n",
        "\n",
        "      print('country' in my_dict) # False\n",
        "\n",
        "\n",
        "\n",
        "15. Can you modify the elements of a tuple? Explain why or why not\n",
        "  \n",
        "  -> The elements of tuples cannot be modified because of the folowing reasons: -\n",
        "  \n",
        "  i) Immutability:\n",
        "  \n",
        "  Once a tuple is created, its size and content cannot be changed. Any operation that appears to modify a tuple actually creates a new tuple with the desired changes. The original tuple remains unchanged.\n",
        "\n",
        "  ii) Data Integrity:\n",
        "  \n",
        "  This immutability helps ensure data integrity. If you have data that should not be altered, using a tuple prevents accidental modification.\n",
        "\n",
        "  iii) Hashing:\n",
        "  \n",
        "  Immutability also makes tuples hashable, which allows them to be used as keys in dictionaries. Mutable objects like lists cannot be used as dictionary keys because their hash value could change.\n",
        "\n",
        "  If you need a collection of items that can be modified, you should use a list instead of a tuple. Lists are mutable, meaning you can add, remove, or change elements after the list is created.\n",
        "\n",
        "\n",
        "\n",
        "16. What is a nested dictionary, and give an example of its use case ?\n",
        "  \n",
        "  -> A nested dictionary is a dictionary where the values are themselves dictionaries. This allows you to create hierarchical data structures.\n",
        "\n",
        "  Use case example:\n",
        "\n",
        "  Imagine you want to store information about multiple students, where each student has details like name, age, and a list of courses they are enrolled in. You can represent this using a nested dictionary:\n",
        "\n",
        "  students = {\n",
        "\n",
        "      \"student1\": {\n",
        "\n",
        "          \"name\": \"Alice\",\n",
        "\n",
        "          \"age\": 20,\n",
        "\n",
        "          \"courses\": [\"Math\", \"Physics\", \"Chemistry\"]\n",
        "      },\n",
        "\n",
        "      \"student2\": {\n",
        "\n",
        "          \"name\": \"Bob\",\n",
        "\n",
        "          \"age\": 22,\n",
        "\n",
        "          \"courses\": [\"History\", \"Literature\"]\n",
        "\n",
        "      }\n",
        "\n",
        "  } # Accessing information for a specific student\n",
        "\n",
        "  print(students[\"student1\"][\"name\"]) # Alice\n",
        "\n",
        "  print(students[\"student2\"][\"courses\"]) # ['History', 'Literature']\n",
        "\n",
        "  In this example, the students dictionary contains keys like \"student1\" and \"student2\". The values associated with these keys are other dictionaries, each containing the details for a specific student. This nested structure helps organize and access related data effectively.\n",
        "\n",
        "\n",
        "\n",
        "17. Describe the time complexity of accessing elements in a dictionary ?\n",
        "  \n",
        "  -> The time complexity of accessing elements in a directory is as follows:-\n",
        "  \n",
        "  i) Average Case:\n",
        "  \n",
        "  Accessing elements by key in a dictionary has an average-case time complexity of O(1). This is because dictionaries are implemented using hash tables. The hash function quickly calculates the location of the key-value pair, allowing for very fast lookups.\n",
        "\n",
        "  ii) Worst Case:\n",
        "  \n",
        "  In the worst case, if there are many \"collisions\" (different keys producing the same hash value), accessing an element might take O(n) time, where 'n' is the number of elements in the dictionary. However, a good hash function minimizes collisions, making the average case the typical scenario.\n",
        "\n",
        "\n",
        "\n",
        "18. In what situations are lists preferred over dictionaries ?\n",
        "  \n",
        "  ->  here are situations where lists are preferred over dictionaries:\n",
        "\n",
        "      i) When the order of elements matters:\n",
        "      \n",
        "      Lists maintain the insertion order of elements, while dictionaries are inherently unordered. If you need to access data based on its position in a sequence or maintain a specific sequence of items, a list is the appropriate choice.\n",
        "\n",
        "      ii) When you need to store ordered collections of items where the content might change:\n",
        "      \n",
        "      Lists are mutable, allowing you to easily add, remove, or modify elements after creation. This is suitable for dynamic collections where the data is expected to change over time.\n",
        "\n",
        "      iii) When you need to perform operations that rely on element position:\n",
        "      \n",
        "      Operations like slicing or accessing elements by index are natural for lists but not for dictionaries.\n",
        "\n",
        "      iv) When you need to store multiple occurrences of the same element:\n",
        "      \n",
        "      Lists can contain duplicate values, whereas sets (which are related to dictionaries in their underlying implementation) store only unique elements. If you need to preserve duplicate items, use a list.\n",
        "\n",
        "\n",
        "19. Why are dictionaries considered unordered, and how does that affect data retrieval ?\n",
        "  \n",
        "  -> In Python versions prior to 3.7, dictionaries were considered unordered because they stored data based on a hash table implementation. The order in which you inserted elements did not guarantee the order in which they would be stored or retrieved. The position of an element was determined by the hash value of its key, not its insertion sequence. While versions 3.7 and later of Python maintain insertion order, the underlying principle of using keys for access, rather than order, remains the core characteristic.\n",
        "\n",
        "      How it Affects Data Retrieval:\n",
        "\n",
        "      i) Key-Based Access:\n",
        "      \n",
        "      The unordered nature means you cannot reliably access elements in a dictionary based on their position or index (like you can with lists or tuples). You must access data using its associated key.\n",
        "      \n",
        "\n",
        "      ii) No Indexing:\n",
        "      \n",
        "      You cannot use numerical indices to retrieve elements from a dictionary. Trying to do so will result in a KeyError.\n",
        "      \n",
        "      \n",
        "      iii) Efficient Lookups:\n",
        "      \n",
        "      The unordered structure, based on hash tables, is precisely what allows dictionaries to have very fast average-case time complexity (O(1)) for data retrieval using keys. The hash function quickly directs the lookup to the correct location, regardless of the size of the dictionary.\n",
        "      \n",
        "      \n",
        "      iv) Order Not Guaranteed (older Python versions):\n",
        "      \n",
        "      In older Python versions, iterating through a dictionary might yield elements in a different order than they were inserted. This means you couldn't rely on the order when processing dictionary items. In newer versions, insertion order is preserved when iterating, but it's still not the primary way you access data.\n",
        "      \n",
        "      In essence, the unordered nature of dictionaries (historically, and in principle) means you rely on the unique key to retrieve a value, making them highly efficient for lookups but unsuitable for tasks that require maintaining a specific sequence of data.\n",
        "\n",
        "\n",
        "20. Explain the difference between a list and a dictionary in terms of data retrieval.\n",
        "  \n",
        "  ->  Lists\n",
        "\n",
        "      i) Retrieval Method:\n",
        "      \n",
        "      Lists are ordered collections, meaning the position of each element is maintained. You retrieve data from a list based on its index, which is its position in the list. Indices start at 0 for the first element.\n",
        "      \n",
        "      ii) Example:\n",
        "      \n",
        "      To get the third element in a list my_list = ['a', 'b', 'c', 'd'], you would use my_list.\n",
        "\n",
        "      iii) Time Complexity:\n",
        "      \n",
        "      Accessing elements by index in a list has an average time complexity of O(1) (constant time). This means it takes a relatively fixed amount of time to retrieve an element, regardless of the list's size.\n",
        "\n",
        "\n",
        "      Dictionaries\n",
        "\n",
        "      i) Retrieval Method:\n",
        "      \n",
        "      Dictionaries are unordered collections (in principle, though newer Python versions maintain insertion order). You retrieve data from a dictionary based on its key. Each value in a dictionary is associated with a unique key.\n",
        "      \n",
        "      ii) Example:\n",
        "      \n",
        "      To get the value associated with the key 'name' in a dictionary my_dict = {'name': 'Alice', 'age': 30}, you would use my_dict['name'].\n",
        "\n",
        "      iii) Time Complexity:\n",
        "      \n",
        "      Accessing values by key in a dictionary has an average time complexity of O(1) (constant time). This is because dictionaries are implemented using hash tables, which allow for very fast lookups based on the key's hash value. In the worst case (with many hash collisions), it can be O(n), but this is rare with a good hash function."
      ],
      "metadata": {
        "id": "XemDe7p4jPk7"
      }
    },
    {
      "cell_type": "markdown",
      "source": [
        "# Practical Questions"
      ],
      "metadata": {
        "id": "EPY2l03ZFNwX"
      }
    },
    {
      "cell_type": "code",
      "execution_count": 1,
      "metadata": {
        "colab": {
          "base_uri": "https://localhost:8080/"
        },
        "id": "M8mbNNnuEMHK",
        "outputId": "2a21684e-fac9-4267-bb78-99c1f599900b"
      },
      "outputs": [
        {
          "output_type": "stream",
          "name": "stdout",
          "text": [
            "My Name is  Girish\n"
          ]
        }
      ],
      "source": [
        "# 1. Write a code to create a string with your name and print it\n",
        "\n",
        "s = \"Girish\"\n",
        "\n",
        "print(\"My Name is \", s)"
      ]
    },
    {
      "cell_type": "code",
      "source": [
        "# 2. Write a code to find the length of the string \"Hello World\"\n",
        "\n",
        "s = \"Hello World\"\n",
        "print(len(s))"
      ],
      "metadata": {
        "colab": {
          "base_uri": "https://localhost:8080/"
        },
        "id": "Sc3DaIPgMdXZ",
        "outputId": "ed858e36-2e88-4902-8f23-12676492fcc6"
      },
      "execution_count": 2,
      "outputs": [
        {
          "output_type": "stream",
          "name": "stdout",
          "text": [
            "11\n"
          ]
        }
      ]
    },
    {
      "cell_type": "code",
      "source": [
        "# 3. Write a code to slice the first 3 characters from the string \"Python Programming\"\n",
        "\n",
        "s = \"Python Programming\"\n",
        "\n",
        "print(s[:3])"
      ],
      "metadata": {
        "colab": {
          "base_uri": "https://localhost:8080/"
        },
        "id": "6XehRNPuPU05",
        "outputId": "dc14c6e5-96c4-4d66-d829-90fa551b853b"
      },
      "execution_count": 3,
      "outputs": [
        {
          "output_type": "stream",
          "name": "stdout",
          "text": [
            "Pyt\n"
          ]
        }
      ]
    },
    {
      "cell_type": "code",
      "source": [
        "# 4. Write a code to convert the string \"hello\" to uppercase\n",
        "\n",
        "s = \"hello\"\n",
        "print(s.upper())"
      ],
      "metadata": {
        "colab": {
          "base_uri": "https://localhost:8080/"
        },
        "id": "TXKYLB90PUyG",
        "outputId": "6b5c74ce-17fb-467a-b9a9-04aa6f411754"
      },
      "execution_count": 4,
      "outputs": [
        {
          "output_type": "stream",
          "name": "stdout",
          "text": [
            "HELLO\n"
          ]
        }
      ]
    },
    {
      "cell_type": "code",
      "source": [
        "# 5. Write a code to replace the word \"apple\" with \"orange\" in the string \"I like apple\"\n",
        "\n",
        "s = \"I like apple\"\n",
        "print(s.replace(\"apple\", \"orange\"))"
      ],
      "metadata": {
        "colab": {
          "base_uri": "https://localhost:8080/"
        },
        "id": "Z3J4v1Z0PUvH",
        "outputId": "1c7d73b1-dc60-4eea-e579-0c0f9226cd2e"
      },
      "execution_count": 5,
      "outputs": [
        {
          "output_type": "stream",
          "name": "stdout",
          "text": [
            "I like orange\n"
          ]
        }
      ]
    },
    {
      "cell_type": "code",
      "source": [
        "# 6. Write a code to create a list with numbers 1 to 5 and print it\n",
        "\n",
        "l = [1, 2, 3, 4, 5]\n",
        "\n",
        "print(l)"
      ],
      "metadata": {
        "colab": {
          "base_uri": "https://localhost:8080/"
        },
        "id": "q7C6ohVdPUsH",
        "outputId": "0b08508a-084c-4cc9-b49c-0017a4497964"
      },
      "execution_count": 6,
      "outputs": [
        {
          "output_type": "stream",
          "name": "stdout",
          "text": [
            "[1, 2, 3, 4, 5]\n"
          ]
        }
      ]
    },
    {
      "cell_type": "code",
      "source": [
        "# 7. Write a code to append the number 10 to the list [1, 2, 3, 4]\n",
        "\n",
        "l = [1, 2, 3, 4]\n",
        "l.append(10)\n",
        "print(l)"
      ],
      "metadata": {
        "colab": {
          "base_uri": "https://localhost:8080/"
        },
        "id": "a7jQXYSqPUof",
        "outputId": "35d989e2-00a8-4d4c-bfb1-4910289a0216"
      },
      "execution_count": 7,
      "outputs": [
        {
          "output_type": "stream",
          "name": "stdout",
          "text": [
            "[1, 2, 3, 4, 10]\n"
          ]
        }
      ]
    },
    {
      "cell_type": "code",
      "source": [
        "# 8. Write a code to remove the number 3 from the list [1, 2, 3, 4, 5]\n",
        "\n",
        "l = [1, 2, 3, 4, 5]\n",
        "l.remove(3)\n",
        "print(l)"
      ],
      "metadata": {
        "colab": {
          "base_uri": "https://localhost:8080/"
        },
        "id": "CfKTxdkVPhsg",
        "outputId": "bdc238b4-7978-4fd5-ff54-03451dddc97e"
      },
      "execution_count": 8,
      "outputs": [
        {
          "output_type": "stream",
          "name": "stdout",
          "text": [
            "[1, 2, 4, 5]\n"
          ]
        }
      ]
    },
    {
      "cell_type": "code",
      "source": [
        "# 10. Write a code to reverse the list [10, 20, 30, 40, 50].\n",
        "\n",
        "l = [10, 20, 30, 40, 50]\n",
        "l.reverse()\n",
        "print(l)"
      ],
      "metadata": {
        "colab": {
          "base_uri": "https://localhost:8080/"
        },
        "id": "FJT3gbS0Phpg",
        "outputId": "fb99850f-0530-409f-dbc2-f4547a26f437"
      },
      "execution_count": 9,
      "outputs": [
        {
          "output_type": "stream",
          "name": "stdout",
          "text": [
            "[50, 40, 30, 20, 10]\n"
          ]
        }
      ]
    },
    {
      "cell_type": "code",
      "source": [
        "# 11. Write a code to create a tuple with the elements 100, 200, 300 and print it.\n",
        "\n",
        "t = (100, 200, 300)\n",
        "print(t)"
      ],
      "metadata": {
        "colab": {
          "base_uri": "https://localhost:8080/"
        },
        "id": "FnPvNG4IPhmY",
        "outputId": "66a82daf-0fcb-438b-cf69-0ca794090bf1"
      },
      "execution_count": 10,
      "outputs": [
        {
          "output_type": "stream",
          "name": "stdout",
          "text": [
            "(100, 200, 300)\n"
          ]
        }
      ]
    },
    {
      "cell_type": "code",
      "source": [
        "# 12. Write a code to access the second-to-last element of the tuple ('red', 'green', 'blue', 'yellow').\n",
        "\n",
        "t = ('red', 'green', 'blue', 'yellow')\n",
        "print(t[-2])"
      ],
      "metadata": {
        "colab": {
          "base_uri": "https://localhost:8080/"
        },
        "id": "z1UHLXWeP5Fq",
        "outputId": "73739f65-4823-4cb4-973a-4c1b95a328fd"
      },
      "execution_count": 11,
      "outputs": [
        {
          "output_type": "stream",
          "name": "stdout",
          "text": [
            "blue\n"
          ]
        }
      ]
    },
    {
      "cell_type": "code",
      "source": [
        "# 13. Write a code to find the minimum number in the tuple (10, 20, 5, 15).\n",
        "\n",
        "t = (10, 20, 5, 15)\n",
        "print(min(t))"
      ],
      "metadata": {
        "colab": {
          "base_uri": "https://localhost:8080/"
        },
        "id": "06qmpDSJP7sT",
        "outputId": "bcca0ca3-5544-4f62-c075-da34c3c343d0"
      },
      "execution_count": 12,
      "outputs": [
        {
          "output_type": "stream",
          "name": "stdout",
          "text": [
            "5\n"
          ]
        }
      ]
    },
    {
      "cell_type": "code",
      "source": [
        "# 14. Write a code to find the index of the element \"cat\" in the tuple ('dog', 'cat', 'rabbit').\n",
        "\n",
        "t = ('dog', 'cat', 'rabbit')\n",
        "print(t.index(\"cat\"))"
      ],
      "metadata": {
        "colab": {
          "base_uri": "https://localhost:8080/"
        },
        "id": "Kfi4y6c2P9Wb",
        "outputId": "655efeba-802e-49a6-e60b-3dcc0d663f04"
      },
      "execution_count": 13,
      "outputs": [
        {
          "output_type": "stream",
          "name": "stdout",
          "text": [
            "1\n"
          ]
        }
      ]
    },
    {
      "cell_type": "code",
      "source": [
        "# 15. Write a code to create a tuple containing three different fruits and check if \"kiwi\" is in it.\n",
        "\n",
        "t = (\"apple\", \"banana\", \"orange\")\n",
        "print(\"kiwi\" in t)"
      ],
      "metadata": {
        "colab": {
          "base_uri": "https://localhost:8080/"
        },
        "id": "_WJlINM6P-yE",
        "outputId": "d2168279-ee05-4d94-862b-bd4c9c9dd1b7"
      },
      "execution_count": 14,
      "outputs": [
        {
          "output_type": "stream",
          "name": "stdout",
          "text": [
            "False\n"
          ]
        }
      ]
    },
    {
      "cell_type": "code",
      "source": [
        "# 16. Write a code to create a set with the elements 'a', 'b', 'c' and print it.\n",
        "\n",
        "s = {'a', 'b', 'c'}\n",
        "print(s)"
      ],
      "metadata": {
        "colab": {
          "base_uri": "https://localhost:8080/"
        },
        "id": "HGhGC13oQAJT",
        "outputId": "515bc396-b17c-46d4-f316-aea91a42cd16"
      },
      "execution_count": 15,
      "outputs": [
        {
          "output_type": "stream",
          "name": "stdout",
          "text": [
            "{'b', 'c', 'a'}\n"
          ]
        }
      ]
    },
    {
      "cell_type": "code",
      "source": [
        "# 17. Write a code to clear all elements from the set {1, 2, 3, 4, 5}.\n",
        "\n",
        "s = {1, 2, 3, 4, 5}\n",
        "s.clear()\n",
        "print(s)"
      ],
      "metadata": {
        "colab": {
          "base_uri": "https://localhost:8080/"
        },
        "id": "ptFjvebcQBXc",
        "outputId": "8e9be1ce-6c7d-4914-eaf7-3f3b52ed9bfb"
      },
      "execution_count": 16,
      "outputs": [
        {
          "output_type": "stream",
          "name": "stdout",
          "text": [
            "set()\n"
          ]
        }
      ]
    },
    {
      "cell_type": "code",
      "source": [
        "# 18. Write a code to remove the element 4 from the set {1, 2, 3, 4}.\n",
        "\n",
        "s = {1, 2, 3, 4}\n",
        "s.remove(4)\n",
        "print(s)"
      ],
      "metadata": {
        "colab": {
          "base_uri": "https://localhost:8080/"
        },
        "id": "48NvOqrgQCnT",
        "outputId": "020fa462-ad91-43ac-972a-a2ddf691bad5"
      },
      "execution_count": 17,
      "outputs": [
        {
          "output_type": "stream",
          "name": "stdout",
          "text": [
            "{1, 2, 3}\n"
          ]
        }
      ]
    },
    {
      "cell_type": "code",
      "source": [
        "# 19. Write a code to find the union of two sets {1, 2, 3} and {3, 4, 5}.\n",
        "\n",
        "s1 = {1, 2, 3}\n",
        "s2 = {3, 4, 5}\n",
        "\n",
        "s3 = s1.union(s2)\n",
        "\n",
        "print(s3)"
      ],
      "metadata": {
        "colab": {
          "base_uri": "https://localhost:8080/"
        },
        "id": "rV9WHGP3QEGc",
        "outputId": "ad91ff7c-9beb-4ae2-928e-0fba95c8de4b"
      },
      "execution_count": 18,
      "outputs": [
        {
          "output_type": "stream",
          "name": "stdout",
          "text": [
            "{1, 2, 3, 4, 5}\n"
          ]
        }
      ]
    },
    {
      "cell_type": "code",
      "source": [
        "# 20. Write a code to find the intersection of two sets {1, 2, 3} and {2, 3, 4}.\n",
        "\n",
        "s1 = {1, 2, 3}\n",
        "s2 = {2, 3, 4}\n",
        "\n",
        "s3 = s1.intersection(s2)\n",
        "\n",
        "print(s3)"
      ],
      "metadata": {
        "colab": {
          "base_uri": "https://localhost:8080/"
        },
        "id": "PR1S7ATDQFQs",
        "outputId": "ae8ae212-ce50-401c-e222-42c875b7a107"
      },
      "execution_count": 19,
      "outputs": [
        {
          "output_type": "stream",
          "name": "stdout",
          "text": [
            "{2, 3}\n"
          ]
        }
      ]
    },
    {
      "cell_type": "code",
      "source": [
        "# 21. Write a code to create a dictionary with the keys \"name\", \"age\", and \"city\", and print it.\n",
        "\n",
        "d = {\n",
        "    \"name\": \"Alice\",\n",
        "     \"age\": 30,\n",
        "     \"city\": \"New York\"\n",
        "}\n",
        "\n",
        "print(d)"
      ],
      "metadata": {
        "colab": {
          "base_uri": "https://localhost:8080/"
        },
        "id": "YsmLvqb_QP2R",
        "outputId": "9809138d-2e51-433a-e584-34f1b389e091"
      },
      "execution_count": 20,
      "outputs": [
        {
          "output_type": "stream",
          "name": "stdout",
          "text": [
            "{'name': 'Alice', 'age': 30, 'city': 'New York'}\n"
          ]
        }
      ]
    },
    {
      "cell_type": "code",
      "source": [
        "# 22. Write a code to add a new key-value pair \"country\": \"USA\" to the dictionary {'name': 'John', 'age': 25}.\n",
        "\n",
        "d = {\n",
        "    'name': 'John',\n",
        "     'age': 25\n",
        "}\n",
        "\n",
        "d[\"country\"] = \"USA\"\n",
        "print(d)"
      ],
      "metadata": {
        "colab": {
          "base_uri": "https://localhost:8080/"
        },
        "id": "48UdgOIrQPzJ",
        "outputId": "15e60103-193d-4054-a050-b64c475bedcc"
      },
      "execution_count": 21,
      "outputs": [
        {
          "output_type": "stream",
          "name": "stdout",
          "text": [
            "{'name': 'John', 'age': 25, 'country': 'USA'}\n"
          ]
        }
      ]
    },
    {
      "cell_type": "code",
      "source": [
        "# 23. Write a code to access the value associated with the key \"name\" in the dictionary {'name': 'Alice', 'age': 30}.\n",
        "\n",
        "d = {\n",
        "    'name': 'Alice',\n",
        "     'age': 30\n",
        "}\n",
        "\n",
        "print(d[\"name\"])"
      ],
      "metadata": {
        "colab": {
          "base_uri": "https://localhost:8080/"
        },
        "id": "c4HxwWvbQPwU",
        "outputId": "15fd6a7e-0979-466b-bafc-b121bbf6c1c4"
      },
      "execution_count": 22,
      "outputs": [
        {
          "output_type": "stream",
          "name": "stdout",
          "text": [
            "Alice\n"
          ]
        }
      ]
    },
    {
      "cell_type": "code",
      "source": [
        "# 24. Write a code to remove the key \"age\" from the dictionary {'name': 'Bob', 'age': 22, 'city': 'New York'}.\n",
        "\n",
        "d = {\n",
        "    'name': 'Bob',\n",
        "    'age': 22,\n",
        "    'city': 'New York'\n",
        "}\n",
        "\n",
        "del d['age']\n",
        "\n",
        "print(d)"
      ],
      "metadata": {
        "colab": {
          "base_uri": "https://localhost:8080/"
        },
        "id": "qDVOxENpQPtd",
        "outputId": "7c313134-3675-43cf-984b-30f25f633b32"
      },
      "execution_count": 23,
      "outputs": [
        {
          "output_type": "stream",
          "name": "stdout",
          "text": [
            "{'name': 'Bob', 'city': 'New York'}\n"
          ]
        }
      ]
    },
    {
      "cell_type": "code",
      "source": [
        "# 25. Write a code to check if the key \"city\" exists in the dictionary {'name': 'Alice', 'city': 'Paris'}.\n",
        "\n",
        "d = {\n",
        "    'name': 'Alice',\n",
        "    'city': 'Paris'\n",
        "}\n",
        "\n",
        "print(\"city\" in d)"
      ],
      "metadata": {
        "colab": {
          "base_uri": "https://localhost:8080/"
        },
        "id": "gkK-1RTfQPqe",
        "outputId": "6300159c-a2ba-4c76-8ea9-580b2df62961"
      },
      "execution_count": 24,
      "outputs": [
        {
          "output_type": "stream",
          "name": "stdout",
          "text": [
            "True\n"
          ]
        }
      ]
    },
    {
      "cell_type": "code",
      "source": [
        "# 26. Write a code to create a list, a tuple, and a dictionary, and print them all.\n",
        "\n",
        "\n",
        "l = [1, 2, 3, 'apple', 'banana']\n",
        "\n",
        "t = (10, 20, 30, 'orange', 'grape')\n",
        "\n",
        "\n",
        "d = {\n",
        "    'name': 'Alice',\n",
        "    'age': 30,\n",
        "    'city': 'New York'\n",
        "}\n",
        "\n",
        "print(\"My list:\", l)\n",
        "\n",
        "print(\"My tuple:\", t)\n",
        "\n",
        "print(\"My dictionary:\", d)"
      ],
      "metadata": {
        "colab": {
          "base_uri": "https://localhost:8080/"
        },
        "id": "pDdqsVp7QPnd",
        "outputId": "225a1e37-a970-4d32-bf8e-c9172ab6c2e8"
      },
      "execution_count": 25,
      "outputs": [
        {
          "output_type": "stream",
          "name": "stdout",
          "text": [
            "My list: [1, 2, 3, 'apple', 'banana']\n",
            "My tuple: (10, 20, 30, 'orange', 'grape')\n",
            "My dictionary: {'name': 'Alice', 'age': 30, 'city': 'New York'}\n"
          ]
        }
      ]
    },
    {
      "cell_type": "code",
      "source": [
        "# 27. Write a code to create a list of 5 random numbers between 1 and 100, sort it in ascending order, and print the result.(replaced)\n",
        "\n",
        "import random\n",
        "\n",
        "# Create a list of 5 random numbers\n",
        "r = [\n",
        "    random.randint(1, 100)\n",
        "    for _ in range(5)\n",
        "]\n",
        "\n",
        "# Sort the list in ascending order\n",
        "r.sort()\n",
        "\n",
        "# Print the sorted list\n",
        "print(r)"
      ],
      "metadata": {
        "colab": {
          "base_uri": "https://localhost:8080/"
        },
        "id": "kwkA80FNQPkk",
        "outputId": "29ee6f67-428a-462f-a4b8-199fe5900f23"
      },
      "execution_count": 26,
      "outputs": [
        {
          "output_type": "stream",
          "name": "stdout",
          "text": [
            "[8, 46, 97, 98, 99]\n"
          ]
        }
      ]
    },
    {
      "cell_type": "code",
      "source": [
        "# 28. Write a code to create a list with strings and print the element at the third index.\n",
        "\n",
        "l = [\"apple\", \"banana\", \"cherry\", \"date\", \"elderberry\"]\n",
        "\n",
        "# Print the element at the third index (remember index starts from 0)\n",
        "print(l[3])"
      ],
      "metadata": {
        "colab": {
          "base_uri": "https://localhost:8080/"
        },
        "id": "2ekQDVY0QZ2m",
        "outputId": "850ba4fa-d7a9-445d-f9cb-ca8c7366abff"
      },
      "execution_count": 27,
      "outputs": [
        {
          "output_type": "stream",
          "name": "stdout",
          "text": [
            "date\n"
          ]
        }
      ]
    },
    {
      "cell_type": "code",
      "source": [
        "# 29. Write a code to combine two dictionaries into one and print the result.\n",
        "\n",
        "d1 = {\n",
        "    'name': 'Alice',\n",
        "    'age': 30\n",
        "}\n",
        "\n",
        "\n",
        "d2 = {\n",
        "    'city': 'New York',\n",
        "    'country': 'USA'\n",
        "}\n",
        "\n",
        "d3 = {**d1, **d2}\n",
        "\n",
        "print(d3)"
      ],
      "metadata": {
        "colab": {
          "base_uri": "https://localhost:8080/"
        },
        "id": "z9P-mmovQZvO",
        "outputId": "863c04c8-f276-4165-da55-39e1b9c6f6be"
      },
      "execution_count": 28,
      "outputs": [
        {
          "output_type": "stream",
          "name": "stdout",
          "text": [
            "{'name': 'Alice', 'age': 30, 'city': 'New York', 'country': 'USA'}\n"
          ]
        }
      ]
    },
    {
      "cell_type": "code",
      "source": [
        "# 30. Write a code to convert a list of strings into a set.\n",
        "\n",
        "l = [\"apple\", \"banana\", \"cherry\", \"apple\", \"date\"]\n",
        "\n",
        "s = set(l)\n",
        "\n",
        "print(s)"
      ],
      "metadata": {
        "colab": {
          "base_uri": "https://localhost:8080/"
        },
        "id": "ljrDF1kcQcBm",
        "outputId": "9c0250d3-6eae-4dbf-a175-8c007943b479"
      },
      "execution_count": 29,
      "outputs": [
        {
          "output_type": "stream",
          "name": "stdout",
          "text": [
            "{'banana', 'date', 'apple', 'cherry'}\n"
          ]
        }
      ]
    }
  ]
}